{
  "nbformat": 4,
  "nbformat_minor": 0,
  "metadata": {
    "colab": {
      "name": "MNIST Codethrough.ipynb",
      "provenance": [],
      "include_colab_link": true
    },
    "kernelspec": {
      "name": "python3",
      "display_name": "Python 3"
    }
  },
  "cells": [
    {
      "cell_type": "markdown",
      "metadata": {
        "id": "view-in-github",
        "colab_type": "text"
      },
      "source": [
        "<a href=\"https://colab.research.google.com/github/nrkfeller/YCBS_258_Winter_2019/blob/master/MNIST_Codethrough.ipynb\" target=\"_parent\"><img src=\"https://colab.research.google.com/assets/colab-badge.svg\" alt=\"Open In Colab\"/></a>"
      ]
    },
    {
      "cell_type": "code",
      "metadata": {
        "id": "PHUNW4kD91e4",
        "colab_type": "code",
        "colab": {}
      },
      "source": [
        "from tensorflow import keras\n",
        "from tensorflow.keras.layers import Dense\n",
        "from tensorflow.keras.datasets import mnist\n",
        "\n",
        "import matplotlib.pyplot as plt"
      ],
      "execution_count": 0,
      "outputs": []
    },
    {
      "cell_type": "markdown",
      "metadata": {
        "id": "kD7iVYiCAdGt",
        "colab_type": "text"
      },
      "source": [
        ""
      ]
    },
    {
      "cell_type": "code",
      "metadata": {
        "id": "QeiL3weF_r5a",
        "colab_type": "code",
        "colab": {
          "base_uri": "https://localhost:8080/",
          "height": 72
        },
        "outputId": "6e72f711-f9ad-4931-a261-231ad6848138"
      },
      "source": [
        "(X_train, y_train), (X_test, y_test) = mnist.load_data()"
      ],
      "execution_count": 4,
      "outputs": [
        {
          "output_type": "stream",
          "text": [
            "Downloading data from https://storage.googleapis.com/tensorflow/tf-keras-datasets/mnist.npz\n",
            "11493376/11490434 [==============================] - 0s 0us/step\n"
          ],
          "name": "stdout"
        }
      ]
    },
    {
      "cell_type": "code",
      "metadata": {
        "id": "HAye-F3RACPo",
        "colab_type": "code",
        "colab": {
          "base_uri": "https://localhost:8080/",
          "height": 284
        },
        "outputId": "298650ea-2516-4332-896f-b66ae5d32912"
      },
      "source": [
        "fig = plt.figure()\n",
        "\n",
        "for i in range(9):\n",
        "  plt.subplot(3, 3, i+1)\n",
        "  plt.tight_layout()\n",
        "  plt.imshow(X_train[i], interpolation='none')\n",
        "  plt.title('Digit: {}'.format(y_train[i]))\n",
        "  plt.xticks([])\n",
        "  plt.yticks([])"
      ],
      "execution_count": 5,
      "outputs": [
        {
          "output_type": "display_data",
          "data": {
            "image/png": "[encoded data removed]",
            "text/plain": [
              "<Figure size 432x288 with 9 Axes>"
            ]
          },
          "metadata": {
            "tags": []
          }
        }
      ]
    },
    {
      "cell_type": "code",
      "metadata": {
        "id": "fbhP_MfPAtxv",
        "colab_type": "code",
        "colab": {}
      },
      "source": [
        ""
      ],
      "execution_count": 0,
      "outputs": []
    },
    {
      "cell_type": "code",
      "metadata": {
        "id": "Ho3iQXRNA6wW",
        "colab_type": "code",
        "colab": {}
      },
      "source": [
        "X_train = X_train.astype('float32')\n",
        "X_test = X_test.astype('float32')\n",
        "\n",
        "X_train = X_train / 255\n",
        "X_test /= 255"
      ],
      "execution_count": 0,
      "outputs": []
    },
    {
      "cell_type": "code",
      "metadata": {
        "id": "eXmb4tBbA8U2",
        "colab_type": "code",
        "colab": {}
      },
      "source": [
        "X_train = X_train.reshape(-1, 28*28)\n",
        "X_test = X_test.reshape(-1, 28*28)"
      ],
      "execution_count": 0,
      "outputs": []
    },
    {
      "cell_type": "code",
      "metadata": {
        "id": "kYi_I8gNBUyV",
        "colab_type": "code",
        "colab": {}
      },
      "source": [
        "y_train = keras.utils.to_categorical(y_train, 10)\n",
        "y_test = keras.utils.to_categorical(y_test, 10)"
      ],
      "execution_count": 0,
      "outputs": []
    },
    {
      "cell_type": "code",
      "metadata": {
        "id": "XZwPlYrEDrfj",
        "colab_type": "code",
        "colab": {
          "base_uri": "https://localhost:8080/",
          "height": 35
        },
        "outputId": "be995740-da8e-4bd0-e5cc-44998fa0c69d"
      },
      "source": [
        "y_train.shape"
      ],
      "execution_count": 17,
      "outputs": [
        {
          "output_type": "execute_result",
          "data": {
            "text/plain": [
              "(60000, 10)"
            ]
          },
          "metadata": {
            "tags": []
          },
          "execution_count": 17
        }
      ]
    },
    {
      "cell_type": "code",
      "metadata": {
        "id": "BY8drdYgE4HY",
        "colab_type": "code",
        "colab": {}
      },
      "source": [
        "inputs = keras.Input(shape=(784,))\n",
        "\n",
        "x = Dense(4, activation='relu')(inputs)\n",
        "y = Dense(4, activation='relu')(x)\n",
        "outputs = Dense(10, activation='softmax')(y)\n",
        "\n",
        "model = keras.Model(inputs, outputs)\n",
        "\n",
        "model.compile(optimizer='adam', loss='categorical_crossentropy',\n",
        "             metrics=['accuracy'])"
      ],
      "execution_count": 0,
      "outputs": []
    },
    {
      "cell_type": "code",
      "metadata": {
        "id": "PtUy8H5VFv92",
        "colab_type": "code",
        "colab": {
          "base_uri": "https://localhost:8080/",
          "height": 759
        },
        "outputId": "084d1f05-c2be-4ef0-fa74-42edbfbb7d61"
      },
      "source": [
        "h = model.fit(X_train, y_train, epochs=20, batch_size=16, validation_split=0.2)"
      ],
      "execution_count": 32,
      "outputs": [
        {
          "output_type": "stream",
          "text": [
            "Train on 48000 samples, validate on 12000 samples\n",
            "Epoch 1/20\n",
            "48000/48000 [==============================] - 5s 100us/sample - loss: 0.4821 - acc: 0.8590 - val_loss: 0.4545 - val_acc: 0.8653\n",
            "Epoch 2/20\n",
            "48000/48000 [==============================] - 5s 99us/sample - loss: 0.4788 - acc: 0.8597 - val_loss: 0.4587 - val_acc: 0.8677\n",
            "Epoch 3/20\n",
            "48000/48000 [==============================] - 5s 100us/sample - loss: 0.4776 - acc: 0.8597 - val_loss: 0.4667 - val_acc: 0.8633\n",
            "Epoch 4/20\n",
            "48000/48000 [==============================] - 5s 100us/sample - loss: 0.4767 - acc: 0.8624 - val_loss: 0.4710 - val_acc: 0.8592\n",
            "Epoch 5/20\n",
            "48000/48000 [==============================] - 5s 98us/sample - loss: 0.4738 - acc: 0.8612 - val_loss: 0.4602 - val_acc: 0.8641\n",
            "Epoch 6/20\n",
            "48000/48000 [==============================] - 5s 99us/sample - loss: 0.4729 - acc: 0.8615 - val_loss: 0.4666 - val_acc: 0.8611\n",
            "Epoch 7/20\n",
            "48000/48000 [==============================] - 5s 102us/sample - loss: 0.4726 - acc: 0.8621 - val_loss: 0.4760 - val_acc: 0.8632\n",
            "Epoch 8/20\n",
            "48000/48000 [==============================] - 5s 102us/sample - loss: 0.4708 - acc: 0.8626 - val_loss: 0.4646 - val_acc: 0.8664\n",
            "Epoch 9/20\n",
            "48000/48000 [==============================] - 5s 100us/sample - loss: 0.4700 - acc: 0.8623 - val_loss: 0.4593 - val_acc: 0.8649\n",
            "Epoch 10/20\n",
            "48000/48000 [==============================] - 5s 100us/sample - loss: 0.4688 - acc: 0.8634 - val_loss: 0.4675 - val_acc: 0.8643\n",
            "Epoch 11/20\n",
            "48000/48000 [==============================] - 5s 106us/sample - loss: 0.4686 - acc: 0.8633 - val_loss: 0.4578 - val_acc: 0.8652\n",
            "Epoch 12/20\n",
            "48000/48000 [==============================] - 5s 103us/sample - loss: 0.4680 - acc: 0.8633 - val_loss: 0.4624 - val_acc: 0.8658\n",
            "Epoch 13/20\n",
            "48000/48000 [==============================] - 5s 99us/sample - loss: 0.4669 - acc: 0.8628 - val_loss: 0.4611 - val_acc: 0.8648\n",
            "Epoch 14/20\n",
            "48000/48000 [==============================] - 5s 98us/sample - loss: 0.4665 - acc: 0.8651 - val_loss: 0.4591 - val_acc: 0.8673\n",
            "Epoch 15/20\n",
            "48000/48000 [==============================] - 5s 99us/sample - loss: 0.4646 - acc: 0.8647 - val_loss: 0.4671 - val_acc: 0.8669\n",
            "Epoch 16/20\n",
            "48000/48000 [==============================] - 5s 100us/sample - loss: 0.4653 - acc: 0.8642 - val_loss: 0.4629 - val_acc: 0.8638\n",
            "Epoch 17/20\n",
            "48000/48000 [==============================] - 5s 99us/sample - loss: 0.4627 - acc: 0.8647 - val_loss: 0.4709 - val_acc: 0.8643\n",
            "Epoch 18/20\n",
            "48000/48000 [==============================] - 5s 100us/sample - loss: 0.4626 - acc: 0.8654 - val_loss: 0.4636 - val_acc: 0.8618\n",
            "Epoch 19/20\n",
            "48000/48000 [==============================] - 5s 99us/sample - loss: 0.4616 - acc: 0.8654 - val_loss: 0.4630 - val_acc: 0.8658\n",
            "Epoch 20/20\n",
            "48000/48000 [==============================] - 5s 99us/sample - loss: 0.4603 - acc: 0.8659 - val_loss: 0.4666 - val_acc: 0.8622\n"
          ],
          "name": "stdout"
        }
      ]
    },
    {
      "cell_type": "code",
      "metadata": {
        "id": "Agp6PSvLFyB4",
        "colab_type": "code",
        "colab": {
          "base_uri": "https://localhost:8080/",
          "height": 283
        },
        "outputId": "b4344bdc-03ab-442b-9b48-849add252e63"
      },
      "source": [
        "plt.plot(h.history['acc'])\n",
        "plt.plot(h.history['val_acc'])"
      ],
      "execution_count": 33,
      "outputs": [
        {
          "output_type": "execute_result",
          "data": {
            "text/plain": [
              "[<matplotlib.lines.Line2D at 0x7ff4c6a53748>]"
            ]
          },
          "metadata": {
            "tags": []
          },
          "execution_count": 33
        },
        {
          "output_type": "display_data",
          "data": {
            "image/png": "[encoded data removed]",
            "text/plain": [
              "<Figure size 432x288 with 1 Axes>"
            ]
          },
          "metadata": {
            "tags": []
          }
        }
      ]
    },
    {
      "cell_type": "code",
      "metadata": {
        "id": "2fA63IOrIVlp",
        "colab_type": "code",
        "colab": {}
      },
      "source": [
        ""
      ],
      "execution_count": 0,
      "outputs": []
    }
  ]
}