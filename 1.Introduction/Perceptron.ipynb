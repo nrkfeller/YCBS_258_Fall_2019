{
  "nbformat": 4,
  "nbformat_minor": 0,
  "metadata": {
    "colab": {
      "name": "Perceptron.ipynb",
      "provenance": []
    },
    "kernelspec": {
      "name": "python3",
      "display_name": "Python 3"
    }
  },
  "cells": [
    {
      "cell_type": "code",
      "metadata": {
        "id": "A5aKiX8vCosR",
        "colab_type": "code",
        "colab": {}
      },
      "source": [
        "import numpy as np\n",
        "\n",
        "class Perceptron(object):\n",
        "  \n",
        "  def __init__(self, input_size):\n",
        "    self.w = np.random.rand(input_size)\n",
        "    \n",
        "  def forward_pass(self, inputs):\n",
        "    return self.activation_function(np.multiply(inputs, self.w))\n",
        "  \n",
        "  def activation_function(self, inp):\n",
        "    return 1 if np.sum(inp) > 0 else 0\n",
        "  \n",
        "  def learn(self, inputs, outputs):\n",
        "    if self.forward_pass(inputs) == outputs:\n",
        "      pass\n",
        "    elif self.forward_pass(inputs) == 0:\n",
        "      self.w += inputs\n",
        "    elif self.forward_pass(inputs) == 1:\n",
        "      self.w -= inputs"
      ],
      "execution_count": 0,
      "outputs": []
    },
    {
      "cell_type": "code",
      "metadata": {
        "id": "Tj6ZJQAdDcty",
        "colab_type": "code",
        "outputId": "e5e4f99b-b017-497e-9ee5-b072609bb25d",
        "colab": {
          "base_uri": "https://localhost:8080/",
          "height": 51
        }
      },
      "source": [
        "ins = np.array([-2,5,-4,3])\n",
        "outs = 0\n",
        "\n",
        "my_perc = Perceptron(4)\n",
        "\n",
        "print(my_perc.forward_pass(ins))\n",
        "my_perc.learn(ins, outs)\n",
        "print(my_perc.forward_pass(ins))"
      ],
      "execution_count": 0,
      "outputs": [
        {
          "output_type": "stream",
          "text": [
            "1\n",
            "0\n"
          ],
          "name": "stdout"
        }
      ]
    },
    {
      "cell_type": "code",
      "metadata": {
        "id": "Xln9cAh2Ed64",
        "colab_type": "code",
        "outputId": "74b5a9ce-0e43-4aca-a066-700abcb241d5",
        "colab": {
          "base_uri": "https://localhost:8080/",
          "height": 51
        }
      },
      "source": [
        "ins = np.array([-2,5,-4,3])\n",
        "outs = 1\n",
        "\n",
        "my_perc = Perceptron(4)\n",
        "\n",
        "print(my_perc.forward_pass(ins))\n",
        "my_perc.learn(ins, outs)\n",
        "print(my_perc.forward_pass(ins))"
      ],
      "execution_count": 0,
      "outputs": [
        {
          "output_type": "stream",
          "text": [
            "0\n",
            "1\n"
          ],
          "name": "stdout"
        }
      ]
    },
    {
      "cell_type": "code",
      "metadata": {
        "id": "v-cwqv0mh8rA",
        "colab_type": "code",
        "outputId": "0ec00c4b-58cf-4c88-e6c7-d0b4684771a6",
        "colab": {
          "base_uri": "https://localhost:8080/",
          "height": 34
        }
      },
      "source": [
        "my_perc.w"
      ],
      "execution_count": 0,
      "outputs": [
        {
          "output_type": "execute_result",
          "data": {
            "text/plain": [
              "array([-1.94522737,  5.05961932, -3.35254812,  3.63778347])"
            ]
          },
          "metadata": {
            "tags": []
          },
          "execution_count": 7
        }
      ]
    },
    {
      "cell_type": "markdown",
      "metadata": {
        "id": "IpX3dY4nhVCB",
        "colab_type": "text"
      },
      "source": [
        "### What is happening here?\n",
        "So apparently the simple ```learn()``` function is able to find the correct set of weights to give the right answer. It turns out that if that set of weights exists, it will be able to find it every time. But for most problems, there is no such set of weights. We will explore this later in the lecture!"
      ]
    },
    {
      "cell_type": "code",
      "metadata": {
        "id": "w9BMDKMNgaae",
        "colab_type": "code",
        "colab": {}
      },
      "source": [
        ""
      ],
      "execution_count": 0,
      "outputs": []
    }
  ]
}